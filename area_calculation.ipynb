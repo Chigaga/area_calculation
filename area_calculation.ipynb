{
  "nbformat": 4,
  "nbformat_minor": 0,
  "metadata": {
    "colab": {
      "provenance": [],
      "authorship_tag": "ABX9TyN524c7UHpKMBGv169P5g/l",
      "include_colab_link": true
    },
    "kernelspec": {
      "name": "python3",
      "display_name": "Python 3"
    },
    "language_info": {
      "name": "python"
    }
  },
  "cells": [
    {
      "cell_type": "markdown",
      "metadata": {
        "id": "view-in-github",
        "colab_type": "text"
      },
      "source": [
        "<a href=\"https://colab.research.google.com/github/Chigaga/area_calculation/blob/main/area_calculation.ipynb\" target=\"_parent\"><img src=\"https://colab.research.google.com/assets/colab-badge.svg\" alt=\"Open In Colab\"/></a>"
      ]
    },
    {
      "cell_type": "code",
      "execution_count": null,
      "metadata": {
        "id": "qMMDgAuKZ7d9"
      },
      "outputs": [],
      "source": [
        "import numpy as np\n",
        "import sunpy.map\n",
        "from PIL import Image\n",
        "from math import asin, sqrt, pi"
      ]
    },
    {
      "cell_type": "code",
      "source": [
        "\n",
        "def masking_nan(map_img, segmented_img):\n",
        "    \"\"\"\n",
        "    Masks pixels in a map image where the corresponding pixel in a segmented image\n",
        "    is not useful (255) by setting them to NaN.\n",
        "\n",
        "    Parameters:\n",
        "    map_img (sunpy.map.Map): The map image to be masked.\n",
        "    segmented_img (sunpy.map.Map): The segmented image.\n",
        "\n",
        "    Returns:\n",
        "    sunpy.map.Map: The masked map image.\n",
        "    \"\"\"\n",
        "    mask = map_img.data\n",
        "    mask[segmented_img.data < 255] = np.nan\n",
        "    masked_img = sunpy.map.Map(mask, map_img.meta)\n",
        "    return masked_img\n",
        "\n",
        "\n",
        "def rad_parallel_cut(rad):\n",
        "    \"\"\"\n",
        "    Computes the radiuses of circles at the Sun parallels given a radius in pixels.\n",
        "\n",
        "    Parameters:\n",
        "    rad (int): The radius in pixels.\n",
        "\n",
        "    Returns:\n",
        "    numpy.ndarray: An array containing the computed radiuses of circles.\n",
        "    \"\"\"\n",
        "    out = np.zeros(2 * rad + 1)\n",
        "    for it in range(0, rad + 1):\n",
        "        out[it] = int(np.sqrt((rad ** 2 - (rad - it) ** 2)))\n",
        "    out[rad + 1 : 2 * rad + 1] = np.flipud(out[0 : rad])\n",
        "    return out"
      ],
      "metadata": {
        "id": "d8fpcDHUZ-Ti"
      },
      "execution_count": null,
      "outputs": []
    },
    {
      "cell_type": "code",
      "source": [
        "def full_disk_mask(segmented_img):\n",
        "    \"\"\"\n",
        "    Creates a full-disk mask by pasting a cropped segmented image onto a blank image.\n",
        "\n",
        "    Parameters:\n",
        "    segmented_img (sunpy.map.Map): The cropped segmented image.\n",
        "\n",
        "    Returns:\n",
        "    sunpy.map.Map: The full-disk mask image of 2048x2048 px size\n",
        "    \"\"\"\n",
        "    data_full_img = np.arange(0, 2048 * 2048).reshape(2048, 2048) * np.nan\n",
        "    header = segmented_img.meta\n",
        "    BD_full_img = sunpy.map.Map(data_full_img, header)\n",
        "    BD_full_img.meta['crpix1'] = 1024\n",
        "    BD_full_img.meta['crpix2'] = 1024\n",
        "\n",
        "    final_size = BD_full_img.data.shape  # [rows, columns]\n",
        "    crpix_x_full = round(BD_full_img.meta['crpix1'])\n",
        "    crpix_y_full = round(BD_full_img.meta['crpix2'])\n",
        "    crpix_x_crop = round(segmented_img.meta['crpix1'])\n",
        "    crpix_y_crop = round(segmented_img.meta['crpix2'])\n",
        "    xpix = crpix_x_full - crpix_x_crop  # coordinate of the bottom left pixel\n",
        "    ypix = crpix_y_full - crpix_y_crop\n",
        "\n",
        "    # Create final mask\n",
        "    data = segmented_img.data\n",
        "    height, length = data.shape\n",
        "    fulldisk_mask = np.zeros(final_size) * np.nan\n",
        "\n",
        "    # Using PIL library\n",
        "    image_full = Image.fromarray(fulldisk_mask)\n",
        "    image_crop = Image.fromarray(data)\n",
        "    box = (xpix, ypix)  # Note: Image coordinate system starts from the upper left corner\n",
        "    Image.Image.paste(image_full, image_crop, box=box)\n",
        "    fulldisk_data = np.array(image_full)\n",
        "    fulldisk_mask = sunpy.map.Map(fulldisk_data, BD_full_img.meta)\n",
        "\n",
        "    return fulldisk_mask"
      ],
      "metadata": {
        "id": "rPQA4e6RZ-Vn"
      },
      "execution_count": null,
      "outputs": []
    },
    {
      "cell_type": "code",
      "source": [
        "def find_area(masked_map):\n",
        "    \n",
        "    # Get useful information from the masked map\n",
        "    R_pix = masked_map.meta['rsun_obs'] / masked_map.meta['cdelt1'] # Sun radius in pixels\n",
        "    R_km = masked_map.meta['rsun_ref'] * 10**(-3) # Sun radius in km\n",
        "    cenX, cenY = int(masked_map.meta['crpix1']), int(masked_map.meta['crpix2']) # Reference pixel coordinates\n",
        "\n",
        "    # Calculate the radius of the parallel cut\n",
        "    rad = rad_parallel_cut(R_pix)\n",
        "\n",
        "    nanleft = cenX - rad  # Distance from the left (grid start)\n",
        "    dist_top = cenY - rad  # Distance from the top (grid start) to the Sun from the top \n",
        "\n",
        "    dimming_pos = np.argwhere(~np.isnan(masked_map.data))  # Array of non-NaN pixels\n",
        "    i_all, j_all = dimming_pos[:, 0], dimming_pos[:, 1]  # Coordinates of non-NaN pixels\n",
        "\n",
        "    pix_on_left = 0\n",
        "    Area_pixel = []\n",
        "    \n",
        "    for it in range(len(i_all)):\n",
        "        i = i_all[it] - dist_top  # Y coordinate (rows)\n",
        "        j = j_all[it] - nanleft[rad]  # X coordinate (columns)\n",
        "\n",
        "        if j < 1:  # Skip if on the left from CenX\n",
        "            continue\n",
        "        \n",
        "        if j_all[it] >= cenX:  # Pixels on the left have the same area\n",
        "            j = j_all[it] - cenX\n",
        "            j = rad - j\n",
        "            pix_on_left += 1\n",
        "            if j < 1:\n",
        "                continue\n",
        "        \n",
        "        if i_all[it] > cenY:  # If on the bottom from CenY\n",
        "            i = i_all[it] - cenY\n",
        "            i = rad - i\n",
        "        \n",
        "        # Calculate the area of a pixel\n",
        "        area_sun_km = 2 * pi * R_km**2\n",
        "        area_sun_pix = pi * rad**2\n",
        "        area_pixel = area_sun_km / area_sun_pix\n",
        "        \n",
        "        # Calculate the area of the Sun as a sphere, having the projection to a circle\n",
        "        R = R_km\n",
        "        m = rad\n",
        "        a = R / m\n",
        "        dt = -R + j * a\n",
        "        gm = (m - i) * a\n",
        "        area_sphere = R * (asin((gm + a) / sqrt(R**2 - j**2 * a**2)) - asin(gm / sqrt(R**2 - j**2 * a**2)))\n",
        "        Area_pixel.append(area_sphere / area_pixel)\n",
        "    \n",
        "    # Calculate the total area of the dimming region in km^2\n",
        "    area = np.nansum(Area_pixel) * area_pixel\n",
        "    \n",
        "    return area"
      ],
      "metadata": {
        "id": "K-T0LUOCZ-YY"
      },
      "execution_count": null,
      "outputs": []
    },
    {
      "cell_type": "code",
      "source": [],
      "metadata": {
        "id": "3H4qdVZiZ-ac"
      },
      "execution_count": null,
      "outputs": []
    },
    {
      "cell_type": "code",
      "source": [],
      "metadata": {
        "id": "6A8KHeV0Z-dA"
      },
      "execution_count": null,
      "outputs": []
    },
    {
      "cell_type": "code",
      "source": [],
      "metadata": {
        "id": "DFjXKJQ4Z-fP"
      },
      "execution_count": null,
      "outputs": []
    },
    {
      "cell_type": "code",
      "source": [],
      "metadata": {
        "id": "oooSHQI1Z-hm"
      },
      "execution_count": null,
      "outputs": []
    }
  ]
}